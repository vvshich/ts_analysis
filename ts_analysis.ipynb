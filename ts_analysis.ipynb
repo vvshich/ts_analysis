{
 "cells": [
  {
   "cell_type": "markdown",
   "metadata": {},
   "source": [
    "# Часові ряди"
   ]
  },
  {
   "cell_type": "code",
   "execution_count": 41,
   "metadata": {},
   "outputs": [],
   "source": [
    "import numpy as np"
   ]
  },
  {
   "cell_type": "code",
   "execution_count": 42,
   "metadata": {},
   "outputs": [],
   "source": [
    "u = 0.1\n",
    "y = np.array( [ 4*t+3+np.sin(t) + u for t in range(1, 50)] )\n",
    "test = y[47:49]\n",
    "y = y[:47]"
   ]
  },
  {
   "cell_type": "code",
   "execution_count": 43,
   "metadata": {},
   "outputs": [
    {
     "data": {
      "text/plain": [
       "(array([  7.94147098,  12.00929743,  15.24112001,  18.3431975 ,\n",
       "         22.14107573,  26.8205845 ,  31.7569866 ,  36.08935825,\n",
       "         39.51211849,  42.55597889,  46.10000979,  50.56342708,\n",
       "         55.52016704,  60.09060736,  63.75028784,  66.81209668,\n",
       "         70.13860251,  74.34901275,  79.24987721,  84.01294525,\n",
       "         87.93665564,  91.09114869,  94.2537796 ,  98.19442164,\n",
       "        102.96764825, 107.86255845, 112.05637593, 115.37090579,\n",
       "        118.43636612, 122.11196838, 126.69596235, 131.65142668,\n",
       "        136.09991186, 139.62908269, 142.67181733, 146.10822115,\n",
       "        150.45646187, 155.39636858, 160.06379539, 163.84511316,\n",
       "        166.94137733, 170.18347845, 174.26822526, 179.11770193,\n",
       "        183.95090352, 188.00178835, 191.22357312]),\n",
       " array([194.33174534, 198.14624735]))"
      ]
     },
     "execution_count": 43,
     "metadata": {},
     "output_type": "execute_result"
    }
   ],
   "source": [
    "y, test"
   ]
  },
  {
   "cell_type": "markdown",
   "metadata": {},
   "source": [
    "### 0) Визначення тренду"
   ]
  },
  {
   "cell_type": "markdown",
   "metadata": {},
   "source": [
    "#### Тест серій, заснований на медіані"
   ]
  },
  {
   "cell_type": "markdown",
   "metadata": {},
   "source": [
    "$$y_{med}= \\left\\{\\begin{matrix}\n",
    " y_{\\frac{n+1}{2}} & якщо n - непарне\\\\\n",
    " \\frac{1}{2}(y_{\\frac{n}{2}}+y_{\\frac{n}{2}+1}) & якщо n - парне\n",
    "\\end{matrix}\\right. $$"
   ]
  },
  {
   "cell_type": "code",
   "execution_count": 44,
   "metadata": {},
   "outputs": [],
   "source": [
    "def get_med(y):\n",
    "    y_med = 0\n",
    "    if len(y) % 2:\n",
    "        print(\"Непарне значення n\")\n",
    "        y_med = y[(len(y)+1)//2]-1\n",
    "    else:\n",
    "        print(\"Парне значення n\")\n",
    "        y_med = ( y[len(y)//2-1]+y[len(y)//2] ) / 2\n",
    "    return y_med"
   ]
  },
  {
   "cell_type": "markdown",
   "metadata": {},
   "source": [
    "Алгорітм тесту перевірка \n",
    "1. Якщо $y_t > y_{med}$, ставимо плюс;\n",
    "2. Якщо $y_t < y_{med}$, ставимо мінус;\n",
    "3. Якщо $y_t = y_{med}$, не враховуємо"
   ]
  },
  {
   "cell_type": "markdown",
   "metadata": {},
   "source": [
    "Для існування тенденції чергування плюсiв i мiнусiв у послiдовностi повинне бути бiльш-менш випадковим, тобто ця послiдовнiсть не повинна мати досить довгих серiй плюсiв або мiнусiв i, вiдповiдно, загальна кiлькiсть серiй не повинна бути дуже малою."
   ]
  },
  {
   "cell_type": "code",
   "execution_count": 45,
   "metadata": {},
   "outputs": [],
   "source": [
    "def test_series(y) -> bool:\n",
    "    \" returns True if test complete\"\n",
    "    y_med = get_med(y)\n",
    "    test_arr = [ -1*(t < y_med) + (t>y_med) for t in y]\n",
    "    if test_arr.count(0):\n",
    "        test_arr = test_arr[test_arr != 0]\n",
    "    series = 0\n",
    "    count_series = 1\n",
    "    longest_series = 0\n",
    "    for i in range(1, len(test_arr)):\n",
    "        if test_arr[i-1] == test_arr[i]:\n",
    "            series += 1\n",
    "        else:\n",
    "            if longest_series < series:\n",
    "                longest_series = series\n",
    "            series = 0\n",
    "            count_series += 1\n",
    "    check_count = int(1/2*( len(y) + 2 -1.96*np.sqrt(len(y)-1))) \n",
    "    check_series = int( 1.43 * np.log(len(y) + 1 ) )\n",
    "    return count_series < check_count or longest_series > check_series"
   ]
  },
  {
   "cell_type": "code",
   "execution_count": 46,
   "metadata": {},
   "outputs": [
    {
     "name": "stdout",
     "output_type": "stream",
     "text": [
      "Непарне значення n\n"
     ]
    },
    {
     "data": {
      "text/plain": [
       "True"
      ]
     },
     "execution_count": 46,
     "metadata": {},
     "output_type": "execute_result"
    }
   ],
   "source": [
    "test_series(y)"
   ]
  },
  {
   "cell_type": "markdown",
   "metadata": {},
   "source": [
    "Нерівності не виконуються, тому тенденція існує (нехай 91.25-95%)"
   ]
  },
  {
   "cell_type": "markdown",
   "metadata": {},
   "source": [
    "#### Тест Фостера - Стюарта"
   ]
  },
  {
   "cell_type": "markdown",
   "metadata": {},
   "source": [
    "Крiм тенденцiї у середньому, вiн дозволяє встановити наявнiсть тенденцiї дисперсiї ряду"
   ]
  },
  {
   "cell_type": "code",
   "execution_count": 47,
   "metadata": {},
   "outputs": [],
   "source": [
    "def get_k(y):\n",
    "    \"\"\"\n",
    "    k_t = 1, якщо y_t більше за всі попередні значення послідовності, інакше 0\n",
    "    \"\"\"\n",
    "    k_t = []\n",
    "    max_y = y[0]\n",
    "    for i in range(1, len(y)):\n",
    "        if max_y < y[i]:\n",
    "            k_t.append(1)\n",
    "            max_y = y[i]\n",
    "        else:\n",
    "            k_t.append(0)\n",
    "    return np.array( k_t )"
   ]
  },
  {
   "cell_type": "code",
   "execution_count": 48,
   "metadata": {},
   "outputs": [
    {
     "data": {
      "text/plain": [
       "array([1, 0, 0, 0, 1, 0])"
      ]
     },
     "execution_count": 48,
     "metadata": {},
     "output_type": "execute_result"
    }
   ],
   "source": [
    "k = get_k([5, 8, 6, 7, 7, 10, 4])\n",
    "k"
   ]
  },
  {
   "cell_type": "code",
   "execution_count": 49,
   "metadata": {},
   "outputs": [],
   "source": [
    "def get_l(y):\n",
    "    \"\"\"\n",
    "    l_t = 1, якщо y_t менше за всі попередні значення послідовності, інакше 0\n",
    "    \"\"\"\n",
    "    l_t = []\n",
    "    min_y = y[0]\n",
    "    for i in range(1, len(y)):\n",
    "        if min_y > y[i]:\n",
    "            l_t.append(1)\n",
    "            min_y = y[i]\n",
    "        else:\n",
    "            l_t.append(0)\n",
    "    return np.array( l_t )"
   ]
  },
  {
   "cell_type": "code",
   "execution_count": 50,
   "metadata": {},
   "outputs": [
    {
     "data": {
      "text/plain": [
       "array([0, 0, 0, 0, 0, 1])"
      ]
     },
     "execution_count": 50,
     "metadata": {},
     "output_type": "execute_result"
    }
   ],
   "source": [
    "l = get_l([5, 8, 6, 7, 7, 10, 4])\n",
    "l"
   ]
  },
  {
   "cell_type": "markdown",
   "metadata": {},
   "source": [
    "1. Величина s характеризує зміну часового ряду дисперсії рівнів ряду і змінюється від 0 до (n-1)\n",
    "2. Величина d характеризує зміну у середньому і змінюється від -(n-1) до (n-1) \n",
    "(Если пожалуется, то поправится насчет характеристик)"
   ]
  },
  {
   "cell_type": "code",
   "execution_count": 51,
   "metadata": {},
   "outputs": [],
   "source": [
    "def calc_s_and_d(k, l):\n",
    "    \"\"\"\n",
    "    Розрахування величин s та d\n",
    "    \"\"\"\n",
    "    k = k[1:]\n",
    "    l = l[1:]\n",
    "    return sum(k+l), sum(k-l)"
   ]
  },
  {
   "cell_type": "code",
   "execution_count": 52,
   "metadata": {},
   "outputs": [
    {
     "data": {
      "text/plain": [
       "(2, 0)"
      ]
     },
     "execution_count": 52,
     "metadata": {},
     "output_type": "execute_result"
    }
   ],
   "source": [
    "calc_s_and_d(k, l)"
   ]
  },
  {
   "cell_type": "code",
   "execution_count": 53,
   "metadata": {},
   "outputs": [],
   "source": [
    "def test_foster_stuart(y):\n",
    "    k = get_k(y)\n",
    "    l = get_l(y)\n",
    "    s, d = calc_s_and_d(k, l)\n",
    "    mu = 6.790 # математичне очікування величини s для ряду, в якому рівні розташовані випадковим чином\n",
    "    sigma_1 = np.sqrt(2*np.log(len(y)-3.4253))\n",
    "    sigma_2 = np.sqrt(2*np.log(len(y)-0.8456))\n",
    "    t_s = np.abs(s-mu)/sigma_1\n",
    "    t_d = np.abs(d-0)/sigma_2 # відхилення величини d від нуля\n",
    "    # тест Ст'юдента\n",
    "    t_stud = 1.6787 # a 0.1, n=47\n",
    "    return t_d > t_stud, t_s > t_stud "
   ]
  },
  {
   "cell_type": "code",
   "execution_count": 54,
   "metadata": {},
   "outputs": [
    {
     "data": {
      "text/plain": [
       "(True, True)"
      ]
     },
     "execution_count": 54,
     "metadata": {},
     "output_type": "execute_result"
    }
   ],
   "source": [
    "test_foster_stuart(y)"
   ]
  },
  {
   "cell_type": "markdown",
   "metadata": {},
   "source": [
    "З вірогітностью 90% існує тенденція у середньому (є чинники довгочасові) та дисперсії (є чинники сезонні)"
   ]
  },
  {
   "cell_type": "markdown",
   "metadata": {},
   "source": [
    "### 1) Згладжуємо часовий ряд ковзною середньою"
   ]
  },
  {
   "cell_type": "markdown",
   "metadata": {},
   "source": [
    "Ковзне середнє"
   ]
  },
  {
   "cell_type": "markdown",
   "metadata": {},
   "source": [
    "$$\\bar{y}_t=\\frac{y_{t-1}+y_t+y_{t+1}}{3}$$\n",
    "Щоб не загубити перший і останній рівні, то їх згладжують за формулою\n",
    "$$\\bar{y}_1=\\frac{5y_{1}+2y_2-y_{3}}{3}$$\n",
    "$$\\bar{y}_n=\\frac{-y_{n-2}+2y_{n-1}+5y_{n}}{3}$$"
   ]
  },
  {
   "cell_type": "code",
   "execution_count": 55,
   "metadata": {},
   "outputs": [],
   "source": [
    "def mv_avg(y):\n",
    "    y_avg_1 = (5*y[0]+2*y[1]-y[2])/6 # щоб не загубити рівні\n",
    "    y_avg = [ (y[i-1]+y[i]+y[i+1])/3 for i in range(1, len(y) - 1)]\n",
    "    y_avg_n = (5*y[-1]+2*y[-2]-y[-3])/6\n",
    "    return [y_avg_1] + y_avg + [y_avg_n]"
   ]
  },
  {
   "cell_type": "markdown",
   "metadata": {},
   "source": [
    "Перші прирости"
   ]
  },
  {
   "cell_type": "markdown",
   "metadata": {},
   "source": [
    "$$\\bar{u}^1_t=\\frac{\\bar{y}_{t+1}-\\bar{y}_{t-1}}{2}$$"
   ]
  },
  {
   "cell_type": "code",
   "execution_count": 56,
   "metadata": {},
   "outputs": [],
   "source": [
    "def calc_avg_incr(y):\n",
    "    return [ (y[i]- y[i-1])/2 for i in range(1, len(y))]"
   ]
  },
  {
   "cell_type": "code",
   "execution_count": 57,
   "metadata": {},
   "outputs": [],
   "source": [
    "y_mvavg = mv_avg(y)\n",
    "u1 = calc_avg_incr(y_mvavg)\n",
    "u1_y1 = [u1[i]/y_mvavg[i] for i in range(1, len(y)-1)]\n",
    "ln_u1 = np.log(u1[1:])\n",
    "ln_u1_y1 = np.log(u1_y1)"
   ]
  },
  {
   "cell_type": "code",
   "execution_count": 58,
   "metadata": {},
   "outputs": [
    {
     "name": "stdout",
     "output_type": "stream",
     "text": [
      "Moveing average (y_mvavg): [  8.081  11.731  15.198  18.575  22.435  26.906  31.556  35.786  39.386\n",
      "  42.723  46.406  50.728  55.391  59.787  63.551  66.9    70.433  74.579\n",
      "  79.204  83.733  87.68   91.094  94.513  98.472 103.008 107.629 111.763\n",
      " 115.288 118.64  122.415 126.82  131.482 135.793 139.467 142.803 146.412\n",
      " 150.654 155.306 159.768 163.617 166.99  170.464 174.523 179.112 183.69\n",
      " 187.725 191.362]\n",
      "---------------\n",
      "u1: [1.825 1.734 1.689 1.93  2.236 2.325 2.115 1.8   1.668 1.842 2.161 2.332\n",
      " 2.198 1.882 1.675 1.766 2.073 2.312 2.265 1.974 1.707 1.71  1.979 2.268\n",
      " 2.31  2.067 1.762 1.676 1.888 2.203 2.331 2.156 1.837 1.668 1.805 2.121\n",
      " 2.326 2.231 1.924 1.687 1.737 2.029 2.295 2.289 2.018 1.818]\n",
      "---------------\n"
     ]
    }
   ],
   "source": [
    "print(\"Moveing average (y_mvavg):\", np.round(y_mvavg, 3))\n",
    "print(\"---------------\")\n",
    "print(\"u1:\" , np.round(u1, 3))\n",
    "print(\"---------------\")"
   ]
  },
  {
   "cell_type": "code",
   "execution_count": 59,
   "metadata": {},
   "outputs": [
    {
     "name": "stdout",
     "output_type": "stream",
     "text": [
      "u1/y_mvavg: [0.148 0.111 0.104 0.1   0.086 0.067 0.05  0.042 0.043 0.047 0.046 0.04\n",
      " 0.031 0.026 0.026 0.029 0.031 0.029 0.024 0.019 0.019 0.021 0.023 0.022\n",
      " 0.019 0.016 0.015 0.016 0.018 0.018 0.016 0.014 0.012 0.013 0.014 0.015\n",
      " 0.014 0.012 0.01  0.01  0.012 0.013 0.013 0.011 0.01 ]\n",
      "---------------\n",
      "ln(u1): [0.55  0.524 0.657 0.805 0.844 0.749 0.588 0.512 0.611 0.77  0.847 0.787\n",
      " 0.632 0.516 0.569 0.729 0.838 0.817 0.68  0.535 0.536 0.683 0.819 0.837\n",
      " 0.726 0.567 0.516 0.635 0.79  0.846 0.768 0.608 0.512 0.59  0.752 0.844\n",
      " 0.803 0.654 0.523 0.552 0.708 0.831 0.828 0.702 0.598]\n",
      "---------------\n",
      "ln(u1/y_mvavg): [-1.912 -2.197 -2.264 -2.306 -2.449 -2.703 -2.99  -3.162 -3.144 -3.067\n",
      " -3.08  -3.227 -3.458 -3.636 -3.634 -3.526 -3.474 -3.555 -3.748 -3.939\n",
      " -3.976 -3.866 -3.771 -3.797 -3.952 -4.15  -4.231 -4.141 -4.018 -3.996\n",
      " -4.111 -4.303 -4.426 -4.371 -4.235 -4.171 -4.243 -4.419 -4.575 -4.566\n",
      " -4.431 -4.332 -4.36  -4.511 -4.637]\n",
      "---------------\n"
     ]
    }
   ],
   "source": [
    "print(\"u1/y_mvavg:\", np.round(u1_y1, 3))\n",
    "print(\"---------------\")\n",
    "print(\"ln(u1):\", np.round(ln_u1, 3))\n",
    "print(\"---------------\")\n",
    "print(\"ln(u1/y_mvavg):\", np.round(ln_u1_y1, 3))\n",
    "print(\"---------------\")"
   ]
  },
  {
   "cell_type": "markdown",
   "metadata": {},
   "source": [
    "Так як перші прирости та ділення $\\frac{u_t}{y_t}$ майже однакові між собою, то можемо обрати або поліном першого порядку, або просту експоненту. Також можна побачити за приростами сезоність, далі її будемо оцінювати"
   ]
  },
  {
   "cell_type": "markdown",
   "metadata": {},
   "source": [
    "Оберемо для тендценції поліном першого порядку $a_0+a_1t$"
   ]
  },
  {
   "cell_type": "markdown",
   "metadata": {},
   "source": [
    "### 2) Оцінюємо сезонні коливання (S)"
   ]
  },
  {
   "cell_type": "markdown",
   "metadata": {},
   "source": [
    "Сезоннiсть характеризується тривалiстю перiоду коливань, амплiтудою сезонних коливань i розташуванням максимумiв i мiнiмумiв у часi. \n",
    "\n",
    "Якщо сезоннi коливання в усiх трьох аспектах постiйнi, то сезоннiсть має постiйний характер, а якщо розглянутi показники з часом змiнюються, то сезоннiсть змiнна. У залежностi вiд виду сезонностi застосовують рiзнi статистичнi методи для визначення сезонного компоненту\n"
   ]
  },
  {
   "cell_type": "markdown",
   "metadata": {},
   "source": [
    "Перед тим як встановлювати сезону компоненту, треба встановити її тип зв'язку з тедненцією. Для цього розрахуємо абослютні та відносні значення між значенями $y_t$ та значеннями ковзного середнього:"
   ]
  },
  {
   "cell_type": "markdown",
   "metadata": {},
   "source": [
    "1) Якщо абсолютнi вiдхилення мають тенденцiю до зросту, а вiдноснi змiнюються приблизно на одному рiвнi, то це свiдчить про мультиплiкатив ний тип зв’язку тренду i сезонної компоненти\n",
    "2) Якщо амплiтуда коливань приблизно постiйна, то будують адитивну модель часового ряду, в якiй значення сезонної компоненти постiйне для рiзних циклiв. Але якщо амплiтуда сезонних коливань зростає або зменшується, то будують мультиплiкативну модель ряду"
   ]
  },
  {
   "cell_type": "code",
   "execution_count": 60,
   "metadata": {},
   "outputs": [
    {
     "name": "stdout",
     "output_type": "stream",
     "text": [
      "Абсолютні значення: [-0.139  0.279  0.043 -0.232 -0.294 -0.086  0.201  0.303  0.126 -0.167\n",
      " -0.306 -0.164  0.129  0.304  0.199 -0.088 -0.295 -0.23   0.046  0.28\n",
      "  0.256 -0.003 -0.259 -0.278 -0.041  0.234  0.293  0.083 -0.203 -0.303\n",
      " -0.124  0.169  0.306  0.162 -0.131 -0.304 -0.197  0.091  0.295  0.228\n",
      " -0.049 -0.281 -0.255  0.005  0.261  0.276 -0.138]\n",
      "Відносні значення: [-0.018  0.023  0.003 -0.013 -0.013 -0.003  0.006  0.008  0.003 -0.004\n",
      " -0.007 -0.003  0.002  0.005  0.003 -0.001 -0.004 -0.003  0.001  0.003\n",
      "  0.003 -0.    -0.003 -0.003 -0.     0.002  0.003  0.001 -0.002 -0.002\n",
      " -0.001  0.001  0.002  0.001 -0.001 -0.002 -0.001  0.001  0.002  0.001\n",
      " -0.    -0.002 -0.001  0.     0.001  0.001 -0.001]\n"
     ]
    }
   ],
   "source": [
    "abs_avg = y-y_mvavg\n",
    "\n",
    "print(\"Абсолютні значення:\", np.round(abs_avg, 3))\n",
    "print(\"Відносні значення:\", np.round((y-y_mvavg)/y, 3))"
   ]
  },
  {
   "cell_type": "markdown",
   "metadata": {},
   "source": [
    "Так як відносні та абсолютні відхилення змінюються приблизно на одному рівні між собою, то свідчить про адитивний тип зв'язку тренду і сезоної компоненти"
   ]
  },
  {
   "cell_type": "markdown",
   "metadata": {},
   "source": [
    "Далі шукаємо сезону компоненту $S$. Розбиваємо значення на кватрали по 3 значення ковзного середнього та суммуємо їх."
   ]
  },
  {
   "cell_type": "code",
   "execution_count": 61,
   "metadata": {},
   "outputs": [
    {
     "data": {
      "text/plain": [
       "array([ 0.13933398, -0.18868521, -0.37950796,  0.50454729, -0.04042356,\n",
       "       -0.47090302,  0.43235316,  0.11105822, -0.52478621,  0.32571802,\n",
       "        0.25369316, -0.53686524,  0.19313638,  0.37611905, -0.50617788])"
      ]
     },
     "execution_count": 61,
     "metadata": {},
     "output_type": "execute_result"
    }
   ],
   "source": [
    "quad_3 = np.array([ np.sum(abs_avg[2*(i-1):2*i]) for i in range(1, round(len(y_mvavg)/3))]) # всього за i квартал (ковзне середнє при 3) \n",
    "quad_3"
   ]
  },
  {
   "cell_type": "markdown",
   "metadata": {},
   "source": [
    "Корегуємо їх"
   ]
  },
  {
   "cell_type": "code",
   "execution_count": 62,
   "metadata": {},
   "outputs": [],
   "source": [
    "avg_quad_3 = quad_3/3"
   ]
  },
  {
   "cell_type": "code",
   "execution_count": 63,
   "metadata": {},
   "outputs": [
    {
     "data": {
      "text/plain": [
       "-0.10379660746041054"
      ]
     },
     "execution_count": 63,
     "metadata": {},
     "output_type": "execute_result"
    }
   ],
   "source": [
    "np.sum(avg_quad_3)"
   ]
  },
  {
   "cell_type": "code",
   "execution_count": 64,
   "metadata": {},
   "outputs": [
    {
     "data": {
      "text/plain": [
       "-0.10379660746041054"
      ]
     },
     "execution_count": 64,
     "metadata": {},
     "output_type": "execute_result"
    }
   ],
   "source": [
    "k = np.sum(avg_quad_3)/len(quad_3)\n",
    "k*15"
   ]
  },
  {
   "cell_type": "markdown",
   "metadata": {},
   "source": [
    "Перевіримо умову рівності нулеві суми значень скориговних сезонних компонент, що вірним (python шаліт)"
   ]
  },
  {
   "cell_type": "code",
   "execution_count": 65,
   "metadata": {},
   "outputs": [
    {
     "data": {
      "text/plain": [
       "-0.20759321492082117"
      ]
     },
     "execution_count": 65,
     "metadata": {},
     "output_type": "execute_result"
    }
   ],
   "source": [
    "np.sum(quad_3) - k*15"
   ]
  },
  {
   "cell_type": "markdown",
   "metadata": {},
   "source": [
    "Отримали кореговані значення сезонної компоненти $\\hat{S_t}$"
   ]
  },
  {
   "cell_type": "code",
   "execution_count": 66,
   "metadata": {},
   "outputs": [
    {
     "data": {
      "text/plain": [
       "array([ 0.14625375, -0.18176544, -0.37258818,  0.51146706, -0.03350378,\n",
       "       -0.46398324,  0.43927293,  0.11797799, -0.51786644,  0.3326378 ,\n",
       "        0.26061293, -0.52994546,  0.20005615,  0.38303882, -0.49925811,\n",
       "        0.14625375, -0.18176544, -0.37258818,  0.51146706, -0.03350378,\n",
       "       -0.46398324,  0.43927293,  0.11797799, -0.51786644,  0.3326378 ,\n",
       "        0.26061293, -0.52994546,  0.20005615,  0.38303882, -0.49925811,\n",
       "        0.14625375, -0.18176544, -0.37258818,  0.51146706, -0.03350378,\n",
       "       -0.46398324,  0.43927293,  0.11797799, -0.51786644,  0.3326378 ,\n",
       "        0.26061293, -0.52994546,  0.20005615,  0.38303882, -0.49925811,\n",
       "        0.13933398, -0.18868521])"
      ]
     },
     "execution_count": 66,
     "metadata": {},
     "output_type": "execute_result"
    }
   ],
   "source": [
    "S = quad_3-k\n",
    "# заповнюємо таблицю для S кришкою відповідно y_t\n",
    "S = np.concatenate((np.tile(S, 3), quad_3[:2]))\n",
    "S"
   ]
  },
  {
   "cell_type": "markdown",
   "metadata": {},
   "source": [
    "### 3) Знаходимо значення тенденції із залишками"
   ]
  },
  {
   "cell_type": "markdown",
   "metadata": {},
   "source": [
    "$$T_t+\\varepsilon_t=y_t-\\hat{S_t}$$"
   ]
  },
  {
   "cell_type": "code",
   "execution_count": 67,
   "metadata": {},
   "outputs": [
    {
     "data": {
      "text/plain": [
       "array([  7.79521723,  12.19106287,  15.61370819,  17.83173044,\n",
       "        22.17457951,  27.28456774,  31.31771367,  35.97138025,\n",
       "        40.02998492,  42.22334109,  45.83939686,  51.09337254,\n",
       "        55.32011089,  59.70756853,  64.24954595,  66.66584293,\n",
       "        70.32036795,  74.72160094,  78.73841015,  84.04644903,\n",
       "        88.40063888,  90.65187576,  94.1358016 ,  98.71228807,\n",
       "       102.63501045, 107.60194552, 112.58632139, 115.17084964,\n",
       "       118.05332729, 122.61122649, 126.5497086 , 131.83319212,\n",
       "       136.47250005, 139.11761563, 142.70532111, 146.57220439,\n",
       "       150.01718894, 155.27839058, 160.58166182, 163.51247536,\n",
       "       166.6807644 , 170.71342391, 174.06816911, 178.7346631 ,\n",
       "       184.45016163, 187.86245437, 191.41225834])"
      ]
     },
     "execution_count": 67,
     "metadata": {},
     "output_type": "execute_result"
    }
   ],
   "source": [
    "Tt_et = y - S\n",
    "Tt_et"
   ]
  },
  {
   "cell_type": "markdown",
   "metadata": {},
   "source": [
    "### 4) Визначаємо аналітичний вигляд тенденції (T)"
   ]
  },
  {
   "cell_type": "markdown",
   "metadata": {},
   "source": [
    "Використаємо метод найменших квадратів для $a_0+a_1t; t=\\bar{ 1, 47 }$"
   ]
  },
  {
   "cell_type": "code",
   "execution_count": 68,
   "metadata": {},
   "outputs": [
    {
     "data": {
      "text/plain": [
       "(3.143667666692438, 4.000447703825212)"
      ]
     },
     "execution_count": 68,
     "metadata": {},
     "output_type": "execute_result"
    }
   ],
   "source": [
    "t = np.array(range(1, 48))\n",
    "\n",
    "# Расчет коэффициентов\n",
    "A = np.vstack([t, np.ones(len(t))]).T\n",
    "a_1, a_0 = np.linalg.lstsq(A, Tt_et, rcond=None)[0]\n",
    "a_0, a_1"
   ]
  },
  {
   "cell_type": "markdown",
   "metadata": {},
   "source": [
    "$$a_0=3.144, a_1=4$$"
   ]
  },
  {
   "cell_type": "markdown",
   "metadata": {},
   "source": [
    "### 5) Розрахуовуємо аналітичний вигляд тенденції"
   ]
  },
  {
   "cell_type": "markdown",
   "metadata": {},
   "source": [
    "$$T = 3.144 + 4t$$"
   ]
  },
  {
   "cell_type": "code",
   "execution_count": 69,
   "metadata": {},
   "outputs": [
    {
     "data": {
      "text/plain": [
       "array([  7.14411537,  11.14456307,  15.14501078,  19.14545848,\n",
       "        23.14590619,  27.14635389,  31.14680159,  35.1472493 ,\n",
       "        39.147697  ,  43.1481447 ,  47.14859241,  51.14904011,\n",
       "        55.14948782,  59.14993552,  63.15038322,  67.15083093,\n",
       "        71.15127863,  75.15172634,  79.15217404,  83.15262174,\n",
       "        87.15306945,  91.15351715,  95.15396485,  99.15441256,\n",
       "       103.15486026, 107.15530797, 111.15575567, 115.15620337,\n",
       "       119.15665108, 123.15709878, 127.15754649, 131.15799419,\n",
       "       135.15844189, 139.1588896 , 143.1593373 , 147.159785  ,\n",
       "       151.16023271, 155.16068041, 159.16112812, 163.16157582,\n",
       "       167.16202352, 171.16247123, 175.16291893, 179.16336664,\n",
       "       183.16381434, 187.16426204, 191.16470975])"
      ]
     },
     "execution_count": 69,
     "metadata": {},
     "output_type": "execute_result"
    }
   ],
   "source": [
    "T = a_0 + a_1 * t\n",
    "T"
   ]
  },
  {
   "cell_type": "markdown",
   "metadata": {},
   "source": [
    "### 6) Знаходимо суму (T+S)"
   ]
  },
  {
   "cell_type": "code",
   "execution_count": 70,
   "metadata": {},
   "outputs": [
    {
     "data": {
      "text/plain": [
       "array([  7.29036912,  10.96279764,  14.77242259,  19.65692554,\n",
       "        23.1124024 ,  26.68237065,  31.58607452,  35.26522729,\n",
       "        38.62983056,  43.4807825 ,  47.40920534,  50.61909465,\n",
       "        55.34954397,  59.53297434,  62.65112511,  67.29708468,\n",
       "        70.96951319,  74.77913815,  79.6636411 ,  83.11911796,\n",
       "        86.6890862 ,  91.59279008,  95.27194285,  98.63654612,\n",
       "       103.48749806, 107.4159209 , 110.62581021, 115.35625953,\n",
       "       119.5396899 , 122.65784067, 127.30380024, 130.97622875,\n",
       "       134.78585371, 139.67035666, 143.12583352, 146.69580176,\n",
       "       151.59950564, 155.27865841, 158.64326168, 163.49421362,\n",
       "       167.42263646, 170.63252577, 175.36297508, 179.54640546,\n",
       "       182.66455623, 187.30359602, 190.97602453])"
      ]
     },
     "execution_count": 70,
     "metadata": {},
     "output_type": "execute_result"
    }
   ],
   "source": [
    "T_S = T + S\n",
    "T_S"
   ]
  },
  {
   "cell_type": "markdown",
   "metadata": {},
   "source": [
    "### 7) Розраховуємо залишки"
   ]
  },
  {
   "cell_type": "markdown",
   "metadata": {},
   "source": [
    "$$\\varepsilon_t=y_t-\\hat{S_t}-T_t$$"
   ]
  },
  {
   "cell_type": "code",
   "execution_count": 71,
   "metadata": {},
   "outputs": [
    {
     "data": {
      "text/plain": [
       "array([ 0.65110186,  1.04649979,  0.46869741, -1.31372804, -0.97132668,\n",
       "        0.13821386,  0.17091207,  0.82413096,  0.88228792, -0.92480361,\n",
       "       -1.30919555, -0.05566757,  0.17062307,  0.55763301,  1.09916273,\n",
       "       -0.484988  , -0.83091068, -0.4301254 , -0.41376389,  0.89382729,\n",
       "        1.24756943, -0.50164139, -1.01816325, -0.44212448, -0.51984981,\n",
       "        0.44663755,  1.43056572,  0.01464626, -1.10332379, -0.5458723 ,\n",
       "       -0.60783788,  0.67519793,  1.31405815, -0.04127397, -0.45401619,\n",
       "       -0.58758061, -1.14304377,  0.11771017,  1.42053371,  0.35089954,\n",
       "       -0.48125913, -0.44904731, -1.09474983, -0.42870353,  1.2863473 ,\n",
       "        0.69819233,  0.24754859])"
      ]
     },
     "execution_count": 71,
     "metadata": {},
     "output_type": "execute_result"
    }
   ],
   "source": [
    "e = y - T_S\n",
    "e"
   ]
  },
  {
   "cell_type": "markdown",
   "metadata": {},
   "source": [
    "### 8) Перевіряємо модель на адекватність"
   ]
  },
  {
   "cell_type": "markdown",
   "metadata": {},
   "source": [
    "Адекватнiсть моделi еквiвалентна таким вимогам до випадкової залишкової величини:\n",
    "1) випадковiсть коливань рiвнiв залишкової величини;\n",
    "2) вiдповiднiсть розподiлу випадкової залишкової величини нормальному закону\n",
    "розподiлу;\n",
    "3) рiвнiсть математичного очiкування випадкової залишкової величини нулю;\n",
    "4) незалежнiсть значень рiвнiв випадкової залишкової величини;\n"
   ]
  },
  {
   "cell_type": "markdown",
   "metadata": {},
   "source": [
    "#### 1. Перевірка випадковості коливань рівнів залишкової величини"
   ]
  },
  {
   "cell_type": "markdown",
   "metadata": {},
   "source": [
    "Для цієї перевірки можна використати критерій заснований на медіані для $\\varepsilon_t$"
   ]
  },
  {
   "cell_type": "code",
   "execution_count": 72,
   "metadata": {},
   "outputs": [
    {
     "name": "stdout",
     "output_type": "stream",
     "text": [
      "Непарне значення n\n"
     ]
    },
    {
     "data": {
      "text/plain": [
       "True"
      ]
     },
     "execution_count": 72,
     "metadata": {},
     "output_type": "execute_result"
    }
   ],
   "source": [
    "test_series(e)"
   ]
  },
  {
   "cell_type": "markdown",
   "metadata": {},
   "source": [
    "Нерівності не виконуються, тому тенденція існує 95% відсотків"
   ]
  },
  {
   "cell_type": "markdown",
   "metadata": {},
   "source": [
    "#### 2. Перевірка відповідності розподілу випадкової компоненти нормальному розподілу (RS-критерій)"
   ]
  },
  {
   "cell_type": "markdown",
   "metadata": {},
   "source": [
    "$$U=\\frac{R}{S}$$\n",
    "$R=y_{max}-y_{min}$, $S$ - Стандартне ідхилення\n",
    "$$або$$\n",
    "$$U=\\frac{\\varepsilon_{max}-\\varepsilon_{min}}{\\sigma_{\\varepsilon}}$$"
   ]
  },
  {
   "cell_type": "code",
   "execution_count": 73,
   "metadata": {},
   "outputs": [
    {
     "data": {
      "text/plain": [
       "3.5044334226758025"
      ]
     },
     "execution_count": 73,
     "metadata": {},
     "output_type": "execute_result"
    }
   ],
   "source": [
    "U=np.max(e)-np.min(e)/np.var(e)\n",
    "U"
   ]
  },
  {
   "cell_type": "markdown",
   "metadata": {},
   "source": [
    "Нехай рівень значущості $\\alpha=0.05$. Тоді згідно таблиці $U_1=3.01$, $U_2=4.21$. Так як $U=3.5$, тобто $U_1<U<U_2$, то примаймаємо гіпотезу про нормальність залишків."
   ]
  },
  {
   "cell_type": "markdown",
   "metadata": {},
   "source": [
    "#### 3. Перевірка рівності математичного очікування випадкової компоненти нулю"
   ]
  },
  {
   "cell_type": "markdown",
   "metadata": {},
   "source": [
    "За допомогою критерію Ст'юдента. визначаємо\n",
    "$$t_{СТ}=\\frac{\\bar{\\varepsilon}}{\\sigma_{\\varepsilon}}\\sqrt{n}$$\n",
    "$\\bar{\\varepsilon} $ - середнє арефметичне значення рівнів залишкової послідовності $\\varepsilon_t$"
   ]
  },
  {
   "cell_type": "code",
   "execution_count": 74,
   "metadata": {},
   "outputs": [
    {
     "data": {
      "text/plain": [
       "5.550558837890283e-13"
      ]
     },
     "execution_count": 74,
     "metadata": {},
     "output_type": "execute_result"
    }
   ],
   "source": [
    "t_st=np.average(e)/np.var(e)*np.sqrt(len(e))\n",
    "np.abs(t_st)"
   ]
  },
  {
   "cell_type": "markdown",
   "metadata": {},
   "source": [
    "Так як $|t_{СТ}|<t_{КР}=t(\\alpha, 46)=t(0.05, 46)=2.0129$, то гіпотеза про рівність нулю математичного очікування випадкової послідовності приймається"
   ]
  },
  {
   "cell_type": "markdown",
   "metadata": {},
   "source": [
    "#### 4. Перевірка незалежності значень рівнів випадкової компоненти"
   ]
  },
  {
   "cell_type": "markdown",
   "metadata": {},
   "source": [
    "Використаємо тест Дарбіна-Уотсона для визначення автокореляцію першого порядку"
   ]
  },
  {
   "cell_type": "markdown",
   "metadata": {},
   "source": [
    "$$d_{СТ}=\\frac{\\sum_{i=2}^{n}{(\\varepsilon_i-\\varepsilon_{i-1})}^2}{\\sum_{i=1}^{n}\\varepsilon^2_i}$$"
   ]
  },
  {
   "cell_type": "code",
   "execution_count": 75,
   "metadata": {},
   "outputs": [
    {
     "data": {
      "text/plain": [
       "1.2947963950291526"
      ]
     },
     "execution_count": 75,
     "metadata": {},
     "output_type": "execute_result"
    }
   ],
   "source": [
    "d_st =  np.sum([ (e[i]-e[i-1])**2 for i in range(1, len(e))])/np.sum(np.square(e))\n",
    "d_st"
   ]
  },
  {
   "cell_type": "markdown",
   "metadata": {},
   "source": [
    "Тест довосторонній, тому при $\\alpha=0.1$, знаходимо за таблицями при $\\alpha=0.05$, при n=50, $d_0=1.50$, $d_u=1.59$, звідки $d_{СТ}$ не входить в проміжок зліва, тому автокореляція першого порядку відсутня  "
   ]
  },
  {
   "cell_type": "markdown",
   "metadata": {},
   "source": [
    "### 9) Робимо прогноз за отриманою моделлю"
   ]
  },
  {
   "cell_type": "code",
   "execution_count": 76,
   "metadata": {},
   "outputs": [
    {
     "name": "stdout",
     "output_type": "stream",
     "text": [
      "test1: 194.79256926537565 194.3317453386763\n",
      "y_test-y_t: 0.4608239266993337\n",
      "\n",
      "test2: 199.67707221405828 198.14624734724052\n",
      "y_test-y_t: 1.5308248668177669\n"
     ]
    }
   ],
   "source": [
    "check1 = a_0 + a_1 * 48 + S[2] \n",
    "check2 = a_0 + a_1 * 49 + S[3]\n",
    "print(\"test1:\", check1, test[0])\n",
    "print(\"y_test-y_t:\", check1-test[0])\n",
    "print()\n",
    "print(\"test2:\", check2, test[1])\n",
    "print(\"y_test-y_t:\", check2-test[1])"
   ]
  },
  {
   "cell_type": "markdown",
   "metadata": {},
   "source": [
    "### 10) Оцінюємо точність прогнозу"
   ]
  },
  {
   "cell_type": "markdown",
   "metadata": {},
   "source": [
    "1. Розраховуємо середню відносну похибку апросимації\n",
    "$$MAPE=\\frac{100\\%}{47}\\sum_{t=1}^{47}\\frac{|\\varepsilon_t|}{y_t}$$"
   ]
  },
  {
   "cell_type": "code",
   "execution_count": 77,
   "metadata": {},
   "outputs": [
    {
     "name": "stdout",
     "output_type": "stream",
     "text": [
      "1.3535434531610344%\n"
     ]
    }
   ],
   "source": [
    "MAPE = np.sum(np.abs(e)/y)/len(e)\n",
    "print(MAPE*100, \"%\", sep=\"\")"
   ]
  },
  {
   "cell_type": "markdown",
   "metadata": {},
   "source": [
    "Середня відносна похибка апросимації 1.35%, що означає, модель має високу точність апроксимації"
   ]
  },
  {
   "cell_type": "markdown",
   "metadata": {},
   "source": [
    "$$RSS = \\sum_{1}^{47}\\varepsilon^2_t$$  "
   ]
  },
  {
   "cell_type": "code",
   "execution_count": 78,
   "metadata": {},
   "outputs": [
    {
     "data": {
      "text/plain": [
       "29.772978129768315"
      ]
     },
     "execution_count": 78,
     "metadata": {},
     "output_type": "execute_result"
    }
   ],
   "source": [
    "RSS = np.sum(np.square(e))\n",
    "RSS"
   ]
  },
  {
   "cell_type": "markdown",
   "metadata": {},
   "source": [
    "2. Коефіцієнт детермінації:\n",
    "$$R^2=1-\\frac{RSS}{\\sum_{1}^{47}(y_t-\\bar{y})^2}$$"
   ]
  },
  {
   "cell_type": "code",
   "execution_count": 79,
   "metadata": {},
   "outputs": [
    {
     "data": {
      "text/plain": [
       "0.9997848700240878"
      ]
     },
     "execution_count": 79,
     "metadata": {},
     "output_type": "execute_result"
    }
   ],
   "source": [
    "R = 1 - RSS/np.sum(np.square(y-np.average(y)))\n",
    "R"
   ]
  },
  {
   "cell_type": "markdown",
   "metadata": {},
   "source": [
    "Коефіцієнт детермінації близький до одиниці, що також свідчить про високу точність моделі"
   ]
  }
 ],
 "metadata": {
  "kernelspec": {
   "display_name": "Python 3",
   "language": "python",
   "name": "python3"
  },
  "language_info": {
   "codemirror_mode": {
    "name": "ipython",
    "version": 3
   },
   "file_extension": ".py",
   "mimetype": "text/x-python",
   "name": "python",
   "nbconvert_exporter": "python",
   "pygments_lexer": "ipython3",
   "version": "3.11.5"
  }
 },
 "nbformat": 4,
 "nbformat_minor": 2
}
